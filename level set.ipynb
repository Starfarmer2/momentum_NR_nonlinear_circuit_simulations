{
 "cells": [
  {
   "cell_type": "code",
   "execution_count": 2,
   "metadata": {},
   "outputs": [
    {
     "data": {
      "text/plain": [
       "Text(0.5, 1.0, 'Title')"
      ]
     },
     "execution_count": 2,
     "metadata": {},
     "output_type": "execute_result"
    },
    {
     "data": {
      "image/png": "[encoded data removed]",
      "text/plain": [
       "<Figure size 432x288 with 1 Axes>"
      ]
     },
     "metadata": {
      "needs_background": "light"
     },
     "output_type": "display_data"
    }
   ],
   "source": [
    "import matplotlib.pyplot as plt\n",
    "import numpy as np\n",
    "\n",
    "X, Y = np.meshgrid(np.arange(0, 10, 0.1,dtype='float64'), np.arange(0, 10, 0.1,dtype='float64'))\n",
    "\n",
    "x_shape = X.shape\n",
    "\n",
    "U = np.zeros(x_shape)\n",
    "V = np.zeros(x_shape)\n",
    "\n",
    "def f1(x,y):\n",
    "    return x/2 + pow(x-y,3) + pow(x-y,2) + 1 - (y-x+3)/3 - 1\n",
    "\n",
    "def f2(x,y):\n",
    "    return -pow(x-y,3)-pow(x-y,2)-1+pow(np.e,y)-1+(y-x+3)/3-4\n",
    "\n",
    "def f1d1(x,y):\n",
    "    return 0.5+3*pow(x-y,2)+2*(x-y)+1/3\n",
    "\n",
    "def f1d2(x,y):\n",
    "    return -3*pow(x-y,2)-2*(x-y)-1/3\n",
    "\n",
    "def f2d1(x,y):\n",
    "    return -3*pow(x-y,2)-2*(x-y)-1/3\n",
    "\n",
    "def f2d2(x,y):\n",
    "    return 3*pow(x-y,2)+2*(x-y)+pow(np.e,y)+1/3\n",
    "\n",
    "\n",
    "\n",
    "def f3(x,y):\n",
    "    #return (x-5)/10_000 + 1e-14/80*(pow(np.e,(5-x)/25e-3)-1) #\n",
    "    return 1e-14*(pow(np.e,(y-x)/25e-3)-1)\n",
    "\n",
    "\n",
    "\n",
    "F1 = f1(X,Y)\n",
    "F2 = f2(X,Y)\n",
    "F3 = f3(X,Y)\n",
    "\n",
    "F1X = np.zeros(x_shape)\n",
    "F1Y = np.zeros(x_shape)\n",
    "F2X = np.zeros(x_shape)\n",
    "F2Y = np.zeros(x_shape)\n",
    "\n",
    "for i in range(x_shape[0]):\n",
    "    for j in range(x_shape[1]):\n",
    "        F1X[i,j] = f1d1(X[i,j],Y[i,j])\n",
    "        F1Y[i,j] = f1d2(X[i,j],Y[i,j])\n",
    "\n",
    "fig, ax = plt.subplots()\n",
    "# q = ax.quiver(X, Y, F1X, F1Y, units='xy' ,scale=2, color='red')\n",
    "CS = ax.contourf(X,Y,F3,levels=[1e-40,1e-20,1,1e20,1e40,1e60,1e80],cmap='rainbow')\n",
    "ax.clabel(CS, fontsize=9, inline=True)\n",
    "# ax.contour(X,Y,F2,levels=np.arange(-20,20,4),colors = 'blue')\n",
    "\n",
    "ax.set_aspect('equal')\n",
    "\n",
    "plt.xlim(0,10)\n",
    "plt.ylim(0,10)\n",
    "\n",
    "plt.title('Title',fontsize=10)\n",
    "\n",
    "# plt.savefig('how_to_plot_a_vector_field_in_matplotlib_fig1.png', bbox_inches='tight')\n",
    "# #plt.show()\n",
    "# plt.close()"
   ]
  },
  {
   "cell_type": "code",
   "execution_count": 11,
   "metadata": {},
   "outputs": [
    {
     "data": {
      "text/plain": [
       "(20, 20)"
      ]
     },
     "execution_count": 11,
     "metadata": {},
     "output_type": "execute_result"
    }
   ],
   "source": [
    "F1.shape"
   ]
  },
  {
   "cell_type": "code",
   "execution_count": 3,
   "metadata": {},
   "outputs": [
    {
     "data": {
      "text/plain": [
       "0.2"
      ]
     },
     "execution_count": 3,
     "metadata": {},
     "output_type": "execute_result"
    }
   ],
   "source": [
    "2e-1"
   ]
  },
  {
   "cell_type": "code",
   "execution_count": 24,
   "metadata": {},
   "outputs": [
    {
     "data": {
      "text/plain": [
       "array([[9.03246721e+70, 3.83731205e+53, 1.63022610e+36, 6.92577798e+18,\n",
       "        2.94230584e+01],\n",
       "       [9.03246721e+70, 3.83731205e+53, 1.63022610e+36, 6.92577798e+18,\n",
       "        2.94230584e+01],\n",
       "       [9.03246721e+70, 3.83731205e+53, 1.63022610e+36, 6.92577798e+18,\n",
       "        2.94230584e+01],\n",
       "       [9.03246721e+70, 3.83731205e+53, 1.63022610e+36, 6.92577798e+18,\n",
       "        2.94230584e+01],\n",
       "       [9.03246721e+70, 3.83731205e+53, 1.63022610e+36, 6.92577798e+18,\n",
       "        2.94230584e+01]])"
      ]
     },
     "execution_count": 24,
     "metadata": {},
     "output_type": "execute_result"
    }
   ],
   "source": [
    "F3"
   ]
  },
  {
   "cell_type": "code",
   "execution_count": 20,
   "metadata": {},
   "outputs": [
    {
     "data": {
      "text/plain": [
       "1e-10"
      ]
     },
     "execution_count": 20,
     "metadata": {},
     "output_type": "execute_result"
    }
   ],
   "source": [
    "1e-10"
   ]
  },
  {
   "cell_type": "code",
   "execution_count": 21,
   "metadata": {},
   "outputs": [
    {
     "data": {
      "text/plain": [
       "1e-05"
      ]
     },
     "execution_count": 21,
     "metadata": {},
     "output_type": "execute_result"
    }
   ],
   "source": [
    "1e-5"
   ]
  },
  {
   "cell_type": "code",
   "execution_count": 49,
   "metadata": {},
   "outputs": [
    {
     "data": {
      "text/plain": [
       "5.540622384393487e+20"
      ]
     },
     "execution_count": 49,
     "metadata": {},
     "output_type": "execute_result"
    }
   ],
   "source": [
    "f3(4,6)"
   ]
  },
  {
   "cell_type": "code",
   "execution_count": 44,
   "metadata": {},
   "outputs": [
    {
     "data": {
      "text/plain": [
       "2.353852668370195e+17"
      ]
     },
     "execution_count": 44,
     "metadata": {},
     "output_type": "execute_result"
    }
   ],
   "source": []
  },
  {
   "cell_type": "code",
   "execution_count": null,
   "metadata": {},
   "outputs": [],
   "source": []
  }
 ],
 "metadata": {
  "kernelspec": {
   "display_name": "Python 3 (ipykernel)",
   "language": "python",
   "name": "python3"
  },
  "language_info": {
   "codemirror_mode": {
    "name": "ipython",
    "version": 3
   },
   "file_extension": ".py",
   "mimetype": "text/x-python",
   "name": "python",
   "nbconvert_exporter": "python",
   "pygments_lexer": "ipython3",
   "version": "3.9.12"
  }
 },
 "nbformat": 4,
 "nbformat_minor": 4
}
