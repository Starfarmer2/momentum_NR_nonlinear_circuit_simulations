{
 "cells": [
  {
   "cell_type": "code",
   "execution_count": 2,
   "metadata": {},
   "outputs": [],
   "source": [
    "import matplotlib.pyplot as plt\n",
    "import matplotlib.colors as cm\n",
    "import matplotlib.ticker as ticker\n",
    "import matplotlib.colors as colors\n",
    "import numpy as np"
   ]
  },
  {
   "cell_type": "code",
   "execution_count": 3,
   "metadata": {},
   "outputs": [],
   "source": [
    "BETA = 2e-2\n",
    "LAMBDA = 0.1\n",
    "vt = 0.7"
   ]
  },
  {
   "cell_type": "code",
   "execution_count": 4,
   "metadata": {},
   "outputs": [],
   "source": [
    "def f1(x,y,l):  #IDS\n",
    "    return  BETA*((x-vt)*y-1/2*pow(y,2)) * (1+l*y)\n",
    "\n",
    "def f2(x,y,l):  #IDS\n",
    "    return 0.5*BETA*pow(x-vt,2) * (1+l*y)\n",
    "\n",
    "# def f4(x,y,l):\n",
    "#     vt=0.7\n",
    "#     ret = f1(x,y,l)\n",
    "#     for i in range(len(y)):\n",
    "#             if x[i]-vt>y[i]:\n",
    "#                 ret[i] = f2(x[i],y[i],l)\n",
    "#     return ret\n",
    "\n",
    "def f5(x,y,l):\n",
    "#     factor=1\n",
    "#     if y<0:\n",
    "#         y = -y\n",
    "#         factor=-1\n",
    "    if (x-vt > y):\n",
    "#         if (x == 2 and y == -5.0):\n",
    "#             print(f1(x,y,l) + (y-9)/3e3)\n",
    "        return (f1(x,y,l) + (y-9)/3e3)#*factor\n",
    "    else:\n",
    "#         if (x == 2 and y == -5.0):\n",
    "#             print(f1(x,y,l) + (y-9)/3e3)\n",
    "        return (f2(x,y,l) + (y-9)/3e3)#*factor\n",
    "\n",
    "def f5d1(x,y,l):\n",
    "#     factor=1\n",
    "#     if y<0:\n",
    "#         y = -y\n",
    "#         factor=-1\n",
    "    if (x-vt > y):\n",
    "        return BETA*y*(1+l*y)#*factor\n",
    "    else:\n",
    "        return BETA*(x-vt)*(1+l*y)#*factor\n",
    "\n",
    "def f5d2(x,y,l):\n",
    "#     factor=1\n",
    "#     if y<0:\n",
    "#         y = -y\n",
    "#         factor=-1\n",
    "    if (x-vt>y):\n",
    "        return (BETA*((x-vt)+2*l*y*(x-vt)-y-3/2*l*pow(y,2)) + 1/3e3)#*factor\n",
    "    else:\n",
    "        return (BETA/2*l*pow(x-vt,2) + 3/1e3)#*factor\n",
    "    \n",
    "def f6(x,y,l):\n",
    "    return (x-9)/1e3+x/2e3\n",
    "\n",
    "def f6d1(x,y,l):\n",
    "    return 1/1e3 + 1/2e3\n",
    "\n",
    "def f6d2(x,y,l):\n",
    "    return 0\n",
    "\n",
    "def findDelta(x,y,l=LAMBDA):\n",
    "    f1x = f5d1(x,y,l)\n",
    "    f1y = f5d2(x,y,l)\n",
    "    f2x = f6d1(x,y,l)\n",
    "    f2y = f6d2(x,y,l)\n",
    "    invmatrix = np.linalg.inv(np.array([[f1x,f1y],\n",
    "                                        [f2x,f2y]]))\n",
    "    fmatrix = np.array([f5(x,y,l),f6(x,y,l)])\n",
    "    return -np.matmul(invmatrix,fmatrix)\n",
    "\n",
    "def findFunction(x,y,l=LAMBDA):\n",
    "    return np.array([f5(x,y,l),f6(x,y,l)])"
   ]
  },
  {
   "cell_type": "code",
   "execution_count": 5,
   "metadata": {},
   "outputs": [],
   "source": [
    "X, Y = np.meshgrid(np.arange(-1, 15, 0.1,dtype='float64'), np.arange(-11, 11, 0.1,dtype='float64'))\n",
    "Xp, Yp = np.meshgrid(np.arange(-1, 16, 2,dtype='float64'), np.arange(-11, 12, 2,dtype='float64'))\n",
    "\n",
    "x_shape = X.shape\n",
    "xp_shape = Xp.shape"
   ]
  },
  {
   "cell_type": "code",
   "execution_count": 6,
   "metadata": {},
   "outputs": [
    {
     "data": {
      "text/plain": [
       "array([[1.98785294, 1.64756611, 1.15806825, 0.27579831, 0.20777917,\n",
       "        1.11932692, 1.61525838, 1.94827255, 2.19838666],\n",
       "       [2.1967722 , 1.76057072, 1.28474638, 0.60052649, 0.45872982,\n",
       "        1.15384176, 1.62472532, 1.95196044, 2.20013421],\n",
       "       [4.03984384, 3.77061112, 2.76516524, 2.25882757, 1.93485935,\n",
       "        1.81385304, 1.89510015, 2.07033126, 2.25777001],\n",
       "       [2.86703917, 2.82664415, 2.797779  , 2.78269649, 2.78269649,\n",
       "        2.797779  , 2.82664415, 2.86703917, 2.9162752 ],\n",
       "       [2.8220057 , 2.28341546, 1.88045699, 1.51812595, 1.3185907 ,\n",
       "        1.44919653, 1.72959457, 1.9967249 , 2.22231165],\n",
       "       [3.55315189, 1.98791853, 1.30979486, 0.52686708, 0.34488059,\n",
       "        1.13165994, 1.61772583, 1.94898531, 2.19863494],\n",
       "       [3.72466055, 2.20319111, 1.43152641, 0.43556052, 0.21767828,\n",
       "        1.11442571, 1.61300044, 1.94714677, 2.19776576],\n",
       "       [3.87166459, 2.44663479, 3.37162997, 1.7491875 , 0.99369669,\n",
       "        1.2254083 , 1.6368589 , 1.95483894, 2.20094222],\n",
       "       [4.0001672 , 2.65214757, 3.52726489, 2.9278491 , 1.69644454,\n",
       "        1.38461503, 1.66704202, 1.96303715, 2.20390293],\n",
       "       [4.11424186, 2.82695076, 3.66205341, 3.06008328, 2.37693386,\n",
       "        1.57888518, 1.68708661, 1.96556636, 2.20417796],\n",
       "       [4.21676665, 2.97791868, 3.78089887, 3.17688677, 2.49306667,\n",
       "        1.76983471, 1.66879023, 1.95658017, 2.20044585],\n",
       "       [4.30984487, 3.11028586, 3.8871623 , 3.28148227, 2.59718053,\n",
       "        1.85079564, 1.6170497 , 1.94787036, 2.19767387]])"
      ]
     },
     "execution_count": 6,
     "metadata": {},
     "output_type": "execute_result"
    }
   ],
   "source": [
    "F1 = np.zeros_like(X)\n",
    "F1X = np.zeros_like(X)\n",
    "F1Y = np.zeros_like(X)\n",
    "\n",
    "F2 = np.zeros_like(X)\n",
    "F2X = np.zeros_like(X)\n",
    "F2Y = np.zeros_like(X)\n",
    "\n",
    "F3X = np.zeros_like(X)\n",
    "F3Y = np.zeros_like(X)\n",
    "\n",
    "for i in range(len(X)):\n",
    "    for j in range(len(X[i])):\n",
    "        x = X[i][j]\n",
    "        y = Y[i][j]\n",
    "        F1[i][j] = f5(x,y,LAMBDA)\n",
    "        if (x == 2 and y == -5):\n",
    "            print(F1[i][j])\n",
    "        F2[i,j] = f6(x,y,LAMBDA)\n",
    "        \n",
    "\n",
    "for i in range(x_shape[0]):\n",
    "    for j in range(x_shape[1]):\n",
    "        F1X[i,j] = f5d1(X[i,j],Y[i,j],LAMBDA)\n",
    "        F1Y[i,j] = f5d2(X[i,j],Y[i,j],LAMBDA)\n",
    "        F2X[i,j] = f6d1(X[i,j],Y[i,j],LAMBDA)\n",
    "        F2Y[i,j] = f6d2(X[i,j],Y[i,j],LAMBDA)\n",
    "        \n",
    "        invmatrix = np.linalg.inv(np.array([[F1X[i,j],F1Y[i,j]],\n",
    "                              [F2X[i,j],F2Y[i,j]]]))\n",
    "        F3X[i,j],F3Y[i,j] = -np.matmul(invmatrix,np.array([F1[i,j],F2[i,j]]))\n",
    "        \n",
    "        \n",
    "        \n",
    "        \n",
    "        \n",
    "        \n",
    "        \n",
    "        \n",
    "F1p = np.zeros_like(Xp)\n",
    "F1Xp = np.zeros_like(Xp)\n",
    "F1Yp = np.zeros_like(Xp)\n",
    "\n",
    "F2p = np.zeros_like(Xp)\n",
    "F2Xp = np.zeros_like(Xp)\n",
    "F2Yp = np.zeros_like(Xp)\n",
    "\n",
    "F3Xp = np.zeros_like(Xp)\n",
    "F3Yp = np.zeros_like(Xp)\n",
    "\n",
    "for i in range(len(Xp)):\n",
    "    for j in range(len(Xp[i])):\n",
    "        x = Xp[i][j]\n",
    "        y = Yp[i][j]\n",
    "        F1p[i][j] = f5(x,y,LAMBDA) + (y-9)/1e3\n",
    "        F2p[i,j] = f6(x,y,LAMBDA)\n",
    "        \n",
    "\n",
    "for i in range(xp_shape[0]):\n",
    "    for j in range(xp_shape[1]):\n",
    "        F1Xp[i,j] = f5d1(Xp[i,j],Yp[i,j],LAMBDA)\n",
    "        F1Yp[i,j] = f5d2(Xp[i,j],Yp[i,j],LAMBDA)\n",
    "        F2Xp[i,j] = f6d1(Xp[i,j],Yp[i,j],LAMBDA)\n",
    "        F2Yp[i,j] = f6d2(Xp[i,j],Yp[i,j],LAMBDA)\n",
    "        \n",
    "        invmatrix = np.linalg.inv(np.array([[F1Xp[i,j],F1Yp[i,j]],\n",
    "                              [F2Xp[i,j],F2Yp[i,j]]]))\n",
    "        F3Xp[i,j],F3Yp[i,j] = -np.matmul(invmatrix,np.array([F1p[i,j],F2p[i,j]]))\n",
    "\n",
    "mag = np.sqrt(F3Xp*F3Xp + F3Yp*F3Yp)\n",
    "quiverX = F3Xp/mag\n",
    "quiverY = F3Yp/mag\n",
    "color = np.log(mag,np.zeros_like(mag)+2)\n",
    "color"
   ]
  },
  {
   "cell_type": "code",
   "execution_count": null,
   "metadata": {},
   "outputs": [],
   "source": [
    "fig,ax = plt.subplots()\n",
    "\n",
    "\n",
    "#colormap\n",
    "cmap = cm.ListedColormap(plt.cm.plasma(np.linspace(0.25,1,10)), \"name\")\n",
    "\n",
    "\n",
    "\n",
    "plt.rcParams['contour.negative_linestyle'] = 'solid'\n",
    "def fmt(x):\n",
    "    s = f\"{x:.1f}\"\n",
    "    if s.endswith(\"0\"):\n",
    "        s = f\"{x:.0f}\"\n",
    "    return rf\"{s} \\%\" if plt.rcParams[\"text.usetex\"] else f\"{s} %\"\n",
    "\n",
    "def convexity1(x,y):\n",
    "    return 2*LAMBDA*BETA*x-1.4*LAMBDA*BETA-3*LAMBDA*BETA*y-BETA\n",
    "    \n",
    "def convexity2(x,y):\n",
    "    return BETA+BETA*LAMBDA*y\n",
    "\n",
    "print(convexity1(14,-10))\n",
    "\n",
    "normCS = cm.Normalize()#vmin=-0.4,vmax=1.2,clip=False)\n",
    "CS = ax.contourf(X,Y,convexity1(X,Y))#levels=np.arange(-2,10,0.5))  #x-axis: e1, y-axis: e2\n",
    "\n",
    "cbCS = plt.colorbar(CS, ticks=np.arange(-0.1,0.1,0.05), format='%.1f', norm=normCS)\n",
    "cbCS.ax.get_yaxis().labelpad = 15\n",
    "cbCS.ax.set_ylabel('# of contacts', rotation=270)\n",
    "\n",
    "\n",
    "\n",
    "\n",
    "# ax.clabel(CS, fontsize=8, inline=True)\n",
    "\n",
    "plt.xlim(-0.5,15)\n",
    "plt.ylim(-11,11)\n",
    "\n",
    "plt.title('Title',fontsize=10)\n",
    "\n",
    "\n",
    "ax.set_aspect='equal'\n",
    "plt.savefig('circuit1.png',dpi=1000)"
   ]
  },
  {
   "cell_type": "code",
   "execution_count": null,
   "metadata": {},
   "outputs": [],
   "source": [
    "fig,ax = plt.subplots()"
   ]
  },
  {
   "cell_type": "code",
   "execution_count": 8,
   "metadata": {},
   "outputs": [
    {
     "data": {
      "text/plain": [
       "[<matplotlib.lines.Line2D at 0x25d58d90b00>]"
      ]
     },
     "execution_count": 8,
     "metadata": {},
     "output_type": "execute_result"
    },
    {
     "data": {
      "image/png": "[encoded data removed]",
      "text/plain": [
       "<Figure size 432x288 with 1 Axes>"
      ]
     },
     "metadata": {
      "needs_background": "light"
     },
     "output_type": "display_data"
    }
   ],
   "source": [
    "\n",
    "E2 = np.arange(-10,10,0.1)\n",
    "E1 = np.zeros_like(E2)+5\n",
    "Ids = []\n",
    "for i in range(len(E1)):\n",
    "    Ids.append(f5(E1[i],E2[i],LAMBDA))\n",
    "\n",
    "Ids = np.array(Ids)\n",
    "    \n",
    "plt.plot(E2,Ids)"
   ]
  },
  {
   "cell_type": "code",
   "execution_count": 9,
   "metadata": {},
   "outputs": [],
   "source": [
    "E2 = np.arange(0,10,0.1)\n",
    "E1 = np.zeros_like(E2)+5\n",
    "Ids = []\n",
    "for i in range(len(E1)):\n",
    "    Ids.append(f5(E1[i],E2[i],0.1))\n",
    "\n",
    "Ids = np.array(Ids)\n",
    "    \n",
    "#plt.plot(E2,Ids)"
   ]
  },
  {
   "cell_type": "code",
   "execution_count": 10,
   "metadata": {},
   "outputs": [
    {
     "ename": "IndexError",
     "evalue": "index 13 is out of bounds for axis 1 with size 9",
     "output_type": "error",
     "traceback": [
      "\u001b[1;31m--------------------------------------------------------------------------\u001b[0m",
      "\u001b[1;31mIndexError\u001b[0m                               Traceback (most recent call last)",
      "\u001b[1;32m<ipython-input-10-7ad9f3a7212b>\u001b[0m in \u001b[0;36m<module>\u001b[1;34m\u001b[0m\n\u001b[1;32m----> 1\u001b[1;33m \u001b[0mF3Xp\u001b[0m\u001b[1;33m[\u001b[0m\u001b[1;36m4\u001b[0m\u001b[1;33m,\u001b[0m\u001b[1;36m13\u001b[0m\u001b[1;33m]\u001b[0m\u001b[1;33m,\u001b[0m \u001b[0mF3Yp\u001b[0m\u001b[1;33m[\u001b[0m\u001b[1;36m4\u001b[0m\u001b[1;33m,\u001b[0m\u001b[1;36m13\u001b[0m\u001b[1;33m]\u001b[0m\u001b[1;33m\u001b[0m\u001b[1;33m\u001b[0m\u001b[0m\n\u001b[0m",
      "\u001b[1;31mIndexError\u001b[0m: index 13 is out of bounds for axis 1 with size 9"
     ]
    }
   ],
   "source": [
    "F3Xp[4,13], F3Yp[4,13]"
   ]
  },
  {
   "cell_type": "code",
   "execution_count": 11,
   "metadata": {},
   "outputs": [
    {
     "data": {
      "text/plain": [
       "-0.04799999999999999"
      ]
     },
     "execution_count": 11,
     "metadata": {},
     "output_type": "execute_result"
    }
   ],
   "source": [
    "f5d1(3,-6,0.1)"
   ]
  },
  {
   "cell_type": "code",
   "execution_count": 12,
   "metadata": {},
   "outputs": [
    {
     "data": {
      "text/plain": [
       "0.003133333333333309"
      ]
     },
     "execution_count": 12,
     "metadata": {},
     "output_type": "execute_result"
    }
   ],
   "source": [
    "f5d2(3,-6,0.1)"
   ]
  },
  {
   "cell_type": "code",
   "execution_count": 13,
   "metadata": {},
   "outputs": [],
   "source": [
    "#Xp,Yp"
   ]
  },
  {
   "cell_type": "code",
   "execution_count": 14,
   "metadata": {},
   "outputs": [
    {
     "data": {
      "text/plain": [
       "-0.008700000000000001"
      ]
     },
     "execution_count": 14,
     "metadata": {},
     "output_type": "execute_result"
    }
   ],
   "source": [
    "F2[5,12]"
   ]
  },
  {
   "cell_type": "code",
   "execution_count": 15,
   "metadata": {},
   "outputs": [
    {
     "data": {
      "text/plain": [
       "-0.19466666666666668"
      ]
     },
     "execution_count": 15,
     "metadata": {},
     "output_type": "execute_result"
    }
   ],
   "source": [
    "BETA*((2-vt)*(-5)-1/2*pow(-5,2)) * (1+0.1*(-5)) + (-5-9)/3e3"
   ]
  },
  {
   "cell_type": "code",
   "execution_count": 16,
   "metadata": {},
   "outputs": [
    {
     "data": {
      "text/plain": [
       "(0.19999999999999973, -10.500000000000002)"
      ]
     },
     "execution_count": 16,
     "metadata": {},
     "output_type": "execute_result"
    }
   ],
   "source": [
    "X[5,12],Y[5,12]"
   ]
  },
  {
   "cell_type": "code",
   "execution_count": 17,
   "metadata": {},
   "outputs": [
    {
     "data": {
      "text/plain": [
       "-0.19"
      ]
     },
     "execution_count": 17,
     "metadata": {},
     "output_type": "execute_result"
    }
   ],
   "source": [
    "f1(2,-5,0.1)"
   ]
  },
  {
   "cell_type": "code",
   "execution_count": 18,
   "metadata": {},
   "outputs": [
    {
     "data": {
      "text/plain": [
       "(0.010500000000000058, -0.10941666666666679)"
      ]
     },
     "execution_count": 18,
     "metadata": {},
     "output_type": "execute_result"
    }
   ],
   "source": [
    "F1X[5,12],F1Y[5,12]"
   ]
  },
  {
   "cell_type": "code",
   "execution_count": 40,
   "metadata": {},
   "outputs": [
    {
     "name": "stdout",
     "output_type": "stream",
     "text": [
      "[ 3. -3.]\n",
      "[ 3.9        -1.32061856] [-0.1636 -0.0045]\n",
      "[ 4.53       -0.70812713] [-0.09193511 -0.00315   ]\n",
      "[ 4.971      -0.41232358] [-0.05829687 -0.002205  ]\n",
      "[ 5.2797     -0.25035484] [-0.0385359 -0.0015435]\n",
      "[ 5.49579    -0.15410581] [-0.02605145 -0.00108045]\n",
      "[ 5.647053   -0.09376962] [-0.01783859 -0.00075631]\n",
      "[ 5.7529371  -0.05458855] [-0.01230903 -0.00052942]\n",
      "[ 5.82705597 -0.02853796] [-0.00853437 -0.00037059]\n",
      "[ 5.87893918 -0.01093878] [-0.0059356  -0.00025942]\n",
      "[5.91525743e+00 1.08121597e-03] [-0.00413663 -0.00018159]\n",
      "[5.9406802  0.00935256] [-0.00288686 -0.00012711]\n",
      "[5.95847614 0.01507396] [-2.01656522e-03 -8.89797034e-05]\n",
      "[5.9709333  0.01904581] [-1.40953968e-03 -6.22857924e-05]\n",
      "[5.97965331 0.02181003] [-9.85677460e-04 -4.36000547e-05]\n",
      "[5.98575732 0.02373715] [-6.89486490e-04 -3.05200383e-05]\n",
      "[5.99003012 0.02508232] [-4.82402381e-04 -2.13640268e-05]\n",
      "[5.99302108 0.02602208] [-3.37565249e-04 -1.49548188e-05]\n",
      "[5.99511476 0.02667899] [-2.36238727e-04 -1.04683731e-05]\n",
      "[5.99658033 0.02713839] [-1.65339238e-04 -7.32786119e-06]\n",
      "[5.99760623 0.02745975] [-1.15723821e-04 -5.12950283e-06]\n",
      "[5.99832436 0.02768459] [-8.09999920e-05 -3.59065198e-06]\n",
      "[5.99882705 0.02784193] [-5.66967213e-05 -2.51345639e-06]\n",
      "[5.99917894 0.02795204] [-3.96861016e-05 -1.75941947e-06]\n",
      "[5.99942526 0.02802911] [-2.77794856e-05 -1.23159363e-06]\n",
      "[5.99959768 0.02808305] [-1.94452551e-05 -8.62115541e-07]\n",
      "[5.99971838 0.0281208 ] [-1.36114900e-05 -6.03480879e-07]\n",
      "[5.99980286 0.02814723] [-9.52795063e-06 -4.22436615e-07]\n",
      "[5.999862   0.02816573] [-6.66952018e-06 -2.95705631e-07]\n",
      "[5.9999034  0.02817868] [-4.66864195e-06 -2.06993941e-07]\n",
      "[5.99993238 0.02818774] [-3.26803849e-06 -1.44895759e-07]\n",
      "[5.99995267 0.02819408] [-2.28762162e-06 -1.01427031e-07]\n",
      "[5.99996687 0.02819852] [-1.60133253e-06 -7.09989219e-08]\n",
      "[5.99997681 0.02820163] [-1.12093149e-06 -4.96992453e-08]\n",
      "[5.99998376 0.02820381] [-7.84651416e-07 -3.47894717e-08]\n",
      "[5.99998864 0.02820533] [-5.49255684e-07 -2.43526302e-08]\n",
      "[5.99999204 0.0282064 ] [-3.84478829e-07 -1.70468412e-08]\n",
      "[5.99999443 0.02820715] [-2.69135106e-07 -1.19327888e-08]\n",
      "[5.9999961  0.02820767] [-1.88394538e-07 -8.35295216e-09]\n",
      "[5.99999727 0.02820803] [-1.31876159e-07 -5.84706651e-09]\n",
      "[5.99999809 0.02820829] [-9.23133027e-08 -4.09294656e-09]\n"
     ]
    }
   ],
   "source": [
    "EPSILON = 0.3\n",
    "\n",
    "posp = np.array([3.,-3.])\n",
    "pos = np.copy(posp) + 2\n",
    "functionp = findFunction(pos[0],pos[1])\n",
    "function = functionp + 2\n",
    "print(posp)\n",
    "while np.abs(pos[0]-posp[0])>1e-6 or np.abs(pos[0]-posp[0])>1e-6:\n",
    "    pos = posp\n",
    "    posp = posp + EPSILON * findDelta(posp[0],posp[1])\n",
    "    function = functionp\n",
    "    functionp = findFunction(pos[0],pos[1])\n",
    "    print(posp,functionp)"
   ]
  },
  {
   "cell_type": "code",
   "execution_count": 20,
   "metadata": {},
   "outputs": [
    {
     "data": {
      "image/png": "[encoded data removed]",
      "text/plain": [
       "<Figure size 432x288 with 1 Axes>"
      ]
     },
     "metadata": {
      "needs_background": "light"
     },
     "output_type": "display_data"
    }
   ],
   "source": [
    "#iterations vs scaling factor without momentum\n",
    "\n",
    "epsilons = np.arange(0.025,0.5,0.025)\n",
    "iterations = []\n",
    "starting_pos = np.array([0.,0.])\n",
    "for epsilon in epsilons:\n",
    "    posp = np.array([0.,0.])\n",
    "    pos = np.copy(posp) + 2\n",
    "    cnt = 0\n",
    "    while (np.abs(pos[0]-posp[0])>1e-6 or np.abs(pos[0]-posp[0])>1e-6) and cnt < 10000:\n",
    "        pos = posp\n",
    "        posp = posp + epsilon * findDelta(posp[0],posp[1])\n",
    "        cnt += 1\n",
    "    if pos[1] > 0:\n",
    "        iterations.append(cnt)\n",
    "    else:\n",
    "        iterations.append(None)\n",
    "iterations = np.array(iterations)\n",
    "plt.scatter(epsilons[0:len(iterations)],iterations,s=10)\n",
    "plt.xlim(0,0.5)\n",
    "iterations\n",
    "plt.savefig('circuit2.png',dpi=1000)"
   ]
  },
  {
   "cell_type": "code",
   "execution_count": null,
   "metadata": {},
   "outputs": [],
   "source": []
  },
  {
   "cell_type": "code",
   "execution_count": 21,
   "metadata": {},
   "outputs": [],
   "source": [
    "#iterations vs scaling factor with momentum\n",
    "\n",
    "epsilons = np.arange(0.025,0.5,0.025)\n",
    "# momentum_factors = np.arange(0.025,0.9,0.025)\n",
    "momentum_factors = np.arange(0,0.6,0.1)\n",
    "iterationsM = []\n",
    "starting_pos = np.array([0.,0.])\n",
    "\n",
    "row = -1\n",
    "for epsilon in epsilons:\n",
    "    row += 1\n",
    "    iterationsM.append([])\n",
    "    for momentum_factor in momentum_factors:\n",
    "        posp = np.array([0.,0.])\n",
    "        pos = np.copy(posp) + 2\n",
    "        v = 0\n",
    "        cnt = 0\n",
    "        while (np.abs(pos[0]-posp[0])>1e-6 or np.abs(pos[0]-posp[0])>1e-6) and cnt < 10000:\n",
    "            v = momentum_factor * v + findDelta(posp[0],posp[1])\n",
    "            pos = posp\n",
    "            posp = posp + epsilon * v\n",
    "            cnt += 1\n",
    "        if pos[1] > 0:\n",
    "            iterationsM[row].append(cnt)\n",
    "        else:\n",
    "            iterationsM[row].append(None)\n",
    "    iterationsM[row] = np.array(iterationsM[row],dtype='object')\n",
    "        \n",
    "iterationsM = np.array(iterationsM)\n",
    "# plt.plot(epsilons[0:len(iterationsM)],iterationsM,c='k')\n",
    "# iterationsM.shape\n",
    "# [iterationsM[i].shape for i in range(len(iterationsM))]"
   ]
  },
  {
   "cell_type": "code",
   "execution_count": 115,
   "metadata": {},
   "outputs": [
    {
     "name": "stdout",
     "output_type": "stream",
     "text": [
      "[3. 3.]\n",
      "[ 3.9        -5.90844391] [ 0.06677 -0.0045 ]\n",
      "[ 4.53       50.60294353] [-0.30252279 -0.00315   ]\n",
      "[ 4.971      23.68705011] [ 0.90284617 -0.002205  ]\n",
      "[ 5.2797     10.75719722] [ 0.61939602 -0.0015435 ]\n",
      "[5.49579    3.58825316] [ 0.43593997 -0.00108045]\n",
      "[5.647053   1.72283001] [ 0.29090685 -0.00075631]\n",
      "[5.7529371  1.13332489] [ 0.16260499 -0.00052942]\n",
      "[5.82705597 0.77488761] [ 0.11059048 -0.00037059]\n",
      "[5.87893918 0.54045247] [ 0.07640344 -0.00025942]\n",
      "[5.91525743 0.3824054 ] [ 0.05310623 -0.00018159]\n",
      "[5.9406802  0.27422228] [ 0.03702136 -0.00012711]\n",
      "[5.95847614 0.19954419] [ 2.58492090e-02 -8.89797034e-05]\n",
      "[5.9709333 0.1477376] [ 1.80651208e-02 -6.22857924e-05]\n",
      "[5.97965331 0.11168741] [ 1.26321489e-02 -4.36000547e-05]\n",
      "[5.98575732 0.08655245] [ 8.83622900e-03 -3.05200383e-05]\n",
      "[5.99003012 0.06900542] [ 6.18238854e-03 -2.13640268e-05]\n",
      "[5.99302108 0.0567452 ] [ 4.32625058e-03 -1.49548188e-05]\n",
      "[5.99511476 0.04817399] [ 3.02769070e-03 -1.04683731e-05]\n",
      "[5.99658033 0.04217943] [ 2.11905199e-03 -7.32786119e-06]\n",
      "[5.99760623 0.03798582] [ 1.48317533e-03 -5.12950283e-06]\n",
      "[5.99832436 0.03505154] [ 1.03814428e-03 -3.59065198e-06]\n",
      "[5.99882705 0.03299816] [ 7.26662711e-04 -2.51345639e-06]\n",
      "[5.99917894 0.03156109] [ 5.08645194e-04 -1.75941947e-06]\n",
      "[5.99942526 0.03055529] [ 3.56042490e-04 -1.23159363e-06]\n",
      "[5.99959768 0.0298513 ] [ 2.49225268e-04 -8.62115541e-07]\n",
      "[5.99971838 0.02935854] [ 1.74455497e-04 -6.03480879e-07]\n",
      "[5.99980286 0.02901363] [ 1.22117775e-04 -4.22436615e-07]\n",
      "[5.999862  0.0287722] [ 8.54819172e-05 -2.95705631e-07]\n",
      "[5.9999034 0.0286032] [ 5.98370847e-05 -2.06993941e-07]\n",
      "[5.99993238 0.02848491] [ 4.18858332e-05 -1.44895759e-07]\n",
      "[5.99995267 0.0284021 ] [ 2.93200215e-05 -1.01427031e-07]\n",
      "[5.99996687 0.02834413] [ 2.05239848e-05 -7.09989219e-08]\n",
      "[5.99997681 0.02830356] [ 1.43667745e-05 -4.96992453e-08]\n",
      "[5.99998376 0.02827516] [ 1.00567349e-05 -3.47894717e-08]\n",
      "[5.99998864 0.02825528] [ 7.03971087e-06 -2.43526302e-08]\n",
      "[5.99999204 0.02824136] [ 4.92779587e-06 -1.70468412e-08]\n",
      "[5.99999443 0.02823162] [ 3.44945625e-06 -1.19327888e-08]\n",
      "[5.9999961 0.0282248] [ 2.41461896e-06 -8.35295216e-09]\n",
      "[5.99999727 0.02822003] [ 1.69023307e-06 -5.84706651e-09]\n",
      "[5.99999809 0.02821668] [ 1.18316305e-06 -4.09294656e-09]\n",
      "[5.99999866 0.02821434] [ 8.28214083e-07 -2.86506259e-09]\n",
      "[5.99999906 0.02821271] [ 5.79749834e-07 -2.00554382e-09]\n",
      "[5.99999934 0.02821156] [ 4.05824872e-07 -1.40388067e-09]\n",
      "[5.99999954 0.02821076] [ 2.84077404e-07 -9.82716469e-10]\n",
      "44\n",
      "[3. 3.]\n",
      "[ 3.9        -5.90844391] [ 0.06677 -0.0045 ]\n",
      "[ 4.71       48.82125475] [-0.30252279 -0.00315   ]\n",
      "[ 5.259      35.11829305] [ 0.95912541 -0.001935  ]\n",
      "[ 5.5911    16.5946527] [ 0.9464664 -0.0011115]\n",
      "[5.78019    4.58699438] [ 6.38751683e-01 -6.13350000e-04]\n",
      "[ 5.883951   -0.79959141] [ 3.71446801e-01 -3.29715000e-04]\n",
      "[ 5.9395179  -1.61940137] [-0.08542095 -0.00017407]\n",
      "[ 5.96877591 -1.25243061] [-1.6773438e-01 -9.0723150e-05]\n",
      "[ 5.98399474 -0.77785054] [-1.32585267e-01 -4.68361350e-05]\n",
      "[ 5.99184008 -0.43647016] [-8.46481443e-02 -2.40078915e-05]\n",
      "[ 5.99585713 -0.22770223] [-4.91457506e-02 -1.22398753e-05]\n",
      "[ 5.9979034  -0.10892723] [-2.71509851e-02 -6.21430952e-06]\n",
      "[ 5.99894163 -0.04397352] [-1.45696664e-02 -3.14490349e-06]\n",
      "[ 5.99946679 -0.00931407] [-7.67367859e-03 -1.58755124e-06]\n",
      "[5.99973178 0.00887818] [-3.99024406e-03 -7.99815418e-07]\n",
      "[5.99986525 0.01831672] [-2.05595472e-03 -4.02323628e-07]\n",
      "[5.99993237 0.0231723 ] [-1.05217658e-03 -2.02128182e-07]\n",
      "[5.99996608 0.02565445] [-5.35733776e-04 -1.01450638e-07]\n",
      "[5.999983   0.02691723] [-2.71716316e-04 -5.08799378e-08]\n",
      "[5.99999148 0.02755728] [-1.37395684e-04 -2.55018164e-08]\n",
      "[5.99999573 0.02788078] [-6.93122786e-05 -1.27756472e-08]\n",
      "[5.99999786 0.02804391] [-3.49017680e-05 -6.39771922e-09]\n",
      "[5.99999893 0.02812603] [-1.75490984e-05 -3.20281785e-09]\n",
      "[5.99999947 0.02816731] [-8.81382556e-06 -1.60299222e-09]\n",
      "[5.99999973 0.02818804] [-4.42262096e-06 -8.02129431e-10]\n",
      "[5.99999987 0.02819844] [-2.21759316e-06 -4.01318043e-10]\n",
      "[5.99999993 0.02820365] [-1.11130950e-06 -2.00760352e-10]\n",
      "[5.99999997 0.02820627] [-5.56659879e-07 -1.00420709e-10]\n",
      "[5.99999998 0.02820758] [-2.78731982e-07 -5.02265686e-11]\n",
      "[5.99999999 0.02820823] [-1.39526806e-07 -2.51197691e-11]\n",
      "30\n"
     ]
    }
   ],
   "source": [
    "#momentum test\n",
    "\n",
    "EPSILON = 0.3\n",
    "MOMENTUM_FACTOR1 = 0.\n",
    "MOMENTUM_FACTOR2 = 0.2\n",
    "\n",
    "posp1 = np.array([3.,3.])\n",
    "pos1 = np.copy(posp1) + 2\n",
    "pos1store = []\n",
    "pos1store.append(posp1)\n",
    "v = 0\n",
    "print(posp1)\n",
    "cnt1 = 0\n",
    "functionp1 = findFunction(pos1[0],pos1[1])\n",
    "function1 = functionp1 + 2\n",
    "while np.abs(pos1[0]-posp1[0])>1e-6 or np.abs(pos1[1]-posp1[1])>1e-6:\n",
    "    v = MOMENTUM_FACTOR1 * v + findDelta(posp1[0],posp1[1])\n",
    "    pos1 = posp1\n",
    "    posp1 = posp1 + EPSILON * v\n",
    "    function1 = functionp1\n",
    "    functionp1 = findFunction(pos1[0],pos1[1])\n",
    "    cnt1 += 1\n",
    "    print(posp1,functionp1)\n",
    "    pos1store.append(posp1)\n",
    "print(cnt1)\n",
    "\n",
    "posp2 = np.array([3.,3.])\n",
    "pos2 = np.copy(posp2) + 2\n",
    "pos2store = []\n",
    "pos2store.append(posp2)\n",
    "v = 0\n",
    "print(posp2)\n",
    "cnt2 = 0\n",
    "functionp2 = findFunction(pos2[0],pos2[1])\n",
    "function2 = functionp2 + 2\n",
    "while np.abs(pos2[0]-posp2[0])>1e-6 or np.abs(pos2[1]-posp2[1])>1e-6:\n",
    "    v = MOMENTUM_FACTOR2 * v + findDelta(posp2[0],posp2[1])\n",
    "    pos2 = posp2\n",
    "    posp2 = posp2 + EPSILON * v\n",
    "    function2 = functionp2\n",
    "    functionp2 = findFunction(pos2[0],pos2[1])\n",
    "    cnt2 += 1\n",
    "    print(posp2,functionp2)\n",
    "    pos2store.append(posp2)\n",
    "print(cnt2)"
   ]
  },
  {
   "cell_type": "code",
   "execution_count": 106,
   "metadata": {},
   "outputs": [
    {
     "name": "stderr",
     "output_type": "stream",
     "text": [
      "d:\\program files\\python interpretors\\python 36\\lib\\site-packages\\ipykernel_launcher.py:26: MatplotlibDeprecationWarning: The 'norm' parameter to Colorbar has no effect because it is overridden by the mappable; it is deprecated since 3.3 and will be removed two minor releases later.\n",
      "d:\\program files\\python interpretors\\python 36\\lib\\site-packages\\ipykernel_launcher.py:36: MatplotlibDeprecationWarning: The 'norm' parameter to Colorbar has no effect because it is overridden by the mappable; it is deprecated since 3.3 and will be removed two minor releases later.\n"
     ]
    },
    {
     "data": {
      "text/plain": [
       "(array([[ 3.00000000e+00,  3.60000000e+00,  4.08000000e+00,\n",
       "          4.46400000e+00,  4.77120000e+00,  5.01696000e+00,\n",
       "          5.21356800e+00,  5.37085440e+00,  5.49668352e+00,\n",
       "          5.59734682e+00,  5.67787745e+00,  5.74230196e+00,\n",
       "          5.79384157e+00,  5.83507326e+00,  5.86805860e+00,\n",
       "          5.89444688e+00,  5.91555751e+00,  5.93244601e+00,\n",
       "          5.94595680e+00,  5.95676544e+00,  5.96541235e+00,\n",
       "          5.97232988e+00,  5.97786391e+00,  5.98229113e+00,\n",
       "          5.98583290e+00,  5.98866632e+00,  5.99093306e+00,\n",
       "          5.99274645e+00,  5.99419716e+00,  5.99535772e+00,\n",
       "          5.99628618e+00,  5.99702894e+00,  5.99762316e+00,\n",
       "          5.99809852e+00,  5.99847882e+00,  5.99878306e+00,\n",
       "          5.99902644e+00,  5.99922116e+00,  5.99937692e+00,\n",
       "          5.99950154e+00,  5.99960123e+00,  5.99968099e+00,\n",
       "          5.99974479e+00,  5.99979583e+00,  5.99983666e+00,\n",
       "          5.99986933e+00,  5.99989547e+00,  5.99991637e+00,\n",
       "          5.99993310e+00,  5.99994648e+00,  5.99995718e+00,\n",
       "          5.99996575e+00,  5.99997260e+00,  5.99997808e+00,\n",
       "          5.99998246e+00,  5.99998597e+00,  5.99998878e+00,\n",
       "          5.99999102e+00,  5.99999282e+00,  5.99999425e+00,\n",
       "          5.99999540e+00],\n",
       "        [ 3.00000000e+00, -2.93896261e+00, -1.94105927e+00,\n",
       "         -1.36359839e+00, -9.87586579e-01, -7.29491070e-01,\n",
       "         -5.46046714e-01, -4.12259162e-01, -3.12742853e-01,\n",
       "         -2.37576071e-01, -1.80116722e-01, -1.35778049e-01,\n",
       "         -1.01309246e-01, -7.43557105e-02, -5.31807836e-02,\n",
       "         -3.64841699e-02, -2.32801335e-02, -1.28137396e-02,\n",
       "         -4.50196787e-03,  2.10850963e-03,  7.37213260e-03,\n",
       "          1.15672679e-02,  1.49133299e-02,  1.75837713e-02,\n",
       "          1.97160342e-02,  2.14192324e-02,  2.27801220e-02,\n",
       "          2.38677670e-02,  2.47372012e-02,  2.54323124e-02,\n",
       "          2.59881226e-02,  2.64325923e-02,  2.67880540e-02,\n",
       "          2.70723503e-02,  2.72997407e-02,  2.74816231e-02,\n",
       "          2.76271099e-02,  2.77434871e-02,  2.78365810e-02,\n",
       "          2.79110512e-02,  2.79706241e-02,  2.80182803e-02,\n",
       "          2.80564040e-02,  2.80869022e-02,  2.81113001e-02,\n",
       "          2.81308181e-02,  2.81464323e-02,  2.81589236e-02,\n",
       "          2.81689164e-02,  2.81769107e-02,  2.81833060e-02,\n",
       "          2.81884223e-02,  2.81925153e-02,  2.81957897e-02,\n",
       "          2.81984092e-02,  2.82005048e-02,  2.82021813e-02,\n",
       "          2.82035225e-02,  2.82045954e-02,  2.82054538e-02,\n",
       "          2.82061404e-02]]),\n",
       " array([[ 6.00000000e-01,  4.80000000e-01,  3.84000000e-01,\n",
       "          3.07200000e-01,  2.45760000e-01,  1.96608000e-01,\n",
       "          1.57286400e-01,  1.25829120e-01,  1.00663296e-01,\n",
       "          8.05306368e-02,  6.44245094e-02,  5.15396076e-02,\n",
       "          4.12316860e-02,  3.29853488e-02,  2.63882791e-02,\n",
       "          2.11106233e-02,  1.68884986e-02,  1.35107989e-02,\n",
       "          1.08086391e-02,  8.64691128e-03,  6.91752903e-03,\n",
       "          5.53402322e-03,  4.42721858e-03,  3.54177486e-03,\n",
       "          2.83341989e-03,  2.26673591e-03,  1.81338873e-03,\n",
       "          1.45071098e-03,  1.16056879e-03,  9.28455029e-04,\n",
       "          7.42764024e-04,  5.94211219e-04,  4.75368975e-04,\n",
       "          3.80295180e-04,  3.04236144e-04,  2.43388915e-04,\n",
       "          1.94711132e-04,  1.55768906e-04,  1.24615125e-04,\n",
       "          9.96920997e-05,  7.97536797e-05,  6.38029438e-05,\n",
       "          5.10423550e-05,  4.08338840e-05,  3.26671072e-05,\n",
       "          2.61336858e-05,  2.09069486e-05,  1.67255589e-05,\n",
       "          1.33804471e-05,  1.07043577e-05,  8.56348616e-06,\n",
       "          6.85078892e-06,  5.48063114e-06,  4.38450491e-06,\n",
       "          3.50760393e-06,  2.80608314e-06,  2.24486651e-06,\n",
       "          1.79589321e-06,  1.43671457e-06,  1.14937166e-06,\n",
       "          9.19497325e-07],\n",
       "        [-5.93896261e+00,  9.97903340e-01,  5.77460878e-01,\n",
       "          3.76011809e-01,  2.58095509e-01,  1.83444356e-01,\n",
       "          1.33787553e-01,  9.95163082e-02,  7.51667821e-02,\n",
       "          5.74593491e-02,  4.43386732e-02,  3.44688031e-02,\n",
       "          2.69535353e-02,  2.11749270e-02,  1.66966137e-02,\n",
       "          1.32040363e-02,  1.04663939e-02,  8.31177172e-03,\n",
       "          6.61047750e-03,  5.26362298e-03,  4.19513529e-03,\n",
       "          3.34606197e-03,  2.67044144e-03,  2.13226291e-03,\n",
       "          1.70319817e-03,  1.36088962e-03,  1.08764505e-03,\n",
       "          8.69434129e-04,  6.95111265e-04,  5.55810143e-04,\n",
       "          4.44469739e-04,  3.55461681e-04,  2.84296341e-04,\n",
       "          2.27390364e-04,  1.81882404e-04,  1.45486799e-04,\n",
       "          1.16377202e-04,  9.30939303e-05,  7.44701327e-05,\n",
       "          5.95728991e-05,  4.76562668e-05,  3.81237000e-05,\n",
       "          3.04981194e-05,  2.43979575e-05,  1.95180217e-05,\n",
       "          1.56141971e-05,  1.24912166e-05,  9.99288305e-06,\n",
       "          7.99424868e-06,  6.39536198e-06,  5.11626593e-06,\n",
       "          4.09299760e-06,  3.27438839e-06,  2.61950451e-06,\n",
       "          2.09559964e-06,  1.67647717e-06,  1.34118011e-06,\n",
       "          1.07294305e-06,  8.58353773e-07,  6.86682592e-07,\n",
       "          5.49345801e-07]]))"
      ]
     },
     "execution_count": 106,
     "metadata": {},
     "output_type": "execute_result"
    },
    {
     "data": {
      "image/png": "[encoded data removed]",
      "text/plain": [
       "<Figure size 432x288 with 3 Axes>"
      ]
     },
     "metadata": {
      "needs_background": "light"
     },
     "output_type": "display_data"
    }
   ],
   "source": [
    "fig,ax = plt.subplots()\n",
    "\n",
    "\n",
    "#colormap\n",
    "norm = cm.Normalize(vmin=0,vmax=50,clip=False)\n",
    "cmap = cm.ListedColormap(plt.cm.plasma(np.linspace(0.25,1,10)), \"name\")\n",
    "\n",
    "\n",
    "plt.rcParams['contour.negative_linestyle'] = 'solid'\n",
    "def fmt(x):\n",
    "    s = f\"{x:.1f}\"\n",
    "    if s.endswith(\"0\"):\n",
    "        s = f\"{x:.0f}\"\n",
    "    return rf\"{s} \\%\" if plt.rcParams[\"text.usetex\"] else f\"{s} %\"\n",
    "\n",
    "\n",
    "normCS = cm.Normalize(vmin=-0.4,vmax=1.2,clip=False)\n",
    "CS = ax.contour(X,Y,F1)#levels=np.arange(-2,10,0.5))  #x-axis: e1, y-axis: e2\n",
    "#divnorm = colors.TwoSlopeNorm(vmin=-1, vcenter=0, vmax=1)\n",
    "#cmap2 = cm.ListedColormap(plt.cm.RdBu(np.linspace(0.25,1,10)), \"name\")\n",
    "normCS2 = cm.Normalize(vmin=-0.005,vmax=0.005,clip=False)\n",
    "CS2 = ax.contour(X,Y,F2,colors='k',alpha=0.3)#cmap=plt.cm.PuOr,norm=norm2,)#,levels=np.arange(-2,10,0.5))  #x-axis: e1, y-axis: e2\n",
    "\n",
    "#q = ax.quiver(Xp, Yp, F3Xp, F3Yp, units='xy',color='red',scale=1)\n",
    "q = ax.quiver(Xp, Yp, quiverX, quiverY,mag,units='xy',scale=1,cmap=cmap,norm=norm)\n",
    "cb = plt.colorbar(q, ticks=np.arange(0,51,10), format='%.1f', norm=norm)\n",
    "cb.ax.get_yaxis().labelpad = 15\n",
    "cb.ax.set_ylabel('# of contacts', rotation=270)\n",
    "# q = ax.quiver(X, Y, F2X, F2Y, units='xy' ,scale=1, color='blue')\n",
    "\n",
    "XYposp1 = np.array(pos1store[0:len(pos1store)-1]).transpose()\n",
    "Qposp1 = np.array(pos1store[1:len(pos1store)]).transpose()\n",
    "Qposp1 = Qposp1-XYposp1\n",
    "qR = ax.quiver(XYposp1[0],XYposp1[1],Qposp1[0],Qposp1[1],units='xy',scale=1)\n",
    "\n",
    "cbCS = plt.colorbar(CS, ticks=np.arange(-0.8,2.5,0.4), format='%.1f', norm=normCS)\n",
    "cbCS.ax.get_yaxis().labelpad = 15\n",
    "cbCS.ax.set_ylabel('# of contacts', rotation=270)\n",
    "\n",
    "\n",
    "#ax.clabel(CS, fontsize=8, inline=True)\n",
    "ax.clabel(CS2, fontsize=8, inline=True)\n",
    "# ax.contour(X,Y,F2,levels=np.arange(-20,20,4),colors = 'blue')\n",
    "\n",
    "# ax.set_aspect('equal')\n",
    "\n",
    "plt.xlim(-0.5,15)\n",
    "plt.ylim(-11,11)\n",
    "\n",
    "plt.title('Title',fontsize=10)\n",
    "\n",
    "\n",
    "ax.set_aspect='equal'\n",
    "plt.savefig('circuit1.png',dpi=1000)\n",
    "\n",
    "XYposp1, Qposp1"
   ]
  },
  {
   "cell_type": "code",
   "execution_count": 109,
   "metadata": {},
   "outputs": [
    {
     "name": "stderr",
     "output_type": "stream",
     "text": [
      "d:\\program files\\python interpretors\\python 36\\lib\\site-packages\\ipykernel_launcher.py:26: MatplotlibDeprecationWarning: The 'norm' parameter to Colorbar has no effect because it is overridden by the mappable; it is deprecated since 3.3 and will be removed two minor releases later.\n",
      "d:\\program files\\python interpretors\\python 36\\lib\\site-packages\\ipykernel_launcher.py:36: MatplotlibDeprecationWarning: The 'norm' parameter to Colorbar has no effect because it is overridden by the mappable; it is deprecated since 3.3 and will be removed two minor releases later.\n"
     ]
    },
    {
     "data": {
      "text/plain": [
       "(array([[ 3.        ,  3.6       ,  4.26      ,  4.806     ,  5.2086    ,\n",
       "          5.48766   ,  5.673846  ,  5.7949326 ,  5.87227206,  5.92101949,\n",
       "          5.95143982,  5.97027795,  5.9818738 ,  5.9889778 ,  5.99331344,\n",
       "          5.99595144,  5.99755255,  5.99852238,  5.99910885,  5.99946302,\n",
       "          5.99967667,  5.99980543,  5.99988297,  5.99992964,  5.99995771,\n",
       "          5.99997459,  5.99998474,  5.99999083,  5.9999945 ,  5.9999967 ,\n",
       "          5.99999802],\n",
       "        [ 3.        , -2.93896261, -3.72274805, -2.63903085, -1.57850838,\n",
       "         -0.87624816, -0.46448352, -0.23580429, -0.11223173, -0.04636491,\n",
       "         -0.01146013,  0.00701986,  0.01682599,  0.02205235,  0.02485418,\n",
       "          0.02636652,  0.02718899,  0.0276398 ,  0.0278889 ,  0.02802763,\n",
       "          0.02810551,  0.02814955,  0.02817463,  0.028189  ,  0.02819729,\n",
       "          0.0282021 ,  0.0282049 ,  0.02820654,  0.0282075 ,  0.02820806,\n",
       "          0.0282084 ]]),\n",
       " array([[ 6.00000000e-01,  6.60000000e-01,  5.46000000e-01,\n",
       "          4.02600000e-01,  2.79060000e-01,  1.86186000e-01,\n",
       "          1.21086600e-01,  7.73394600e-02,  4.87474260e-02,\n",
       "          3.04203306e-02,  1.88381359e-02,  1.15958503e-02,\n",
       "          7.10399453e-03,  4.33563891e-03,  2.63800444e-03,\n",
       "          1.60111321e-03,  9.69823199e-04,  5.86471556e-04,\n",
       "          3.54171752e-04,  2.13647461e-04,  1.28760681e-04,\n",
       "          7.75425108e-05,  4.66685576e-05,  2.80726602e-05,\n",
       "          1.68793589e-05,  1.01454967e-05,  6.09623873e-06,\n",
       "          3.66221359e-06,  2.19956333e-06,  1.32085558e-06,\n",
       "          7.93072143e-07],\n",
       "        [-5.93896261e+00, -7.83785442e-01,  1.08371720e+00,\n",
       "          1.06052246e+00,  7.02260220e-01,  4.11764646e-01,\n",
       "          2.28679231e-01,  1.23572552e-01,  6.58668219e-02,\n",
       "          3.49047844e-02,  1.84799874e-02,  9.80613097e-03,\n",
       "          5.22636302e-03,  2.80182182e-03,  1.51234866e-03,\n",
       "          8.22462571e-04,  4.50814151e-04,  2.49093477e-04,\n",
       "          1.38737343e-04,  7.78758625e-05,  4.40398073e-05,\n",
       "          2.50801948e-05,  1.43759848e-05,  8.28942535e-06,\n",
       "          4.80553783e-06,  2.79925191e-06,  1.63751150e-06,\n",
       "          9.61485578e-07,  5.66380157e-07,  3.34572312e-07,\n",
       "          1.98115429e-07]]))"
      ]
     },
     "execution_count": 109,
     "metadata": {},
     "output_type": "execute_result"
    },
    {
     "data": {
      "image/png": "[encoded data removed]",
      "text/plain": [
       "<Figure size 432x288 with 3 Axes>"
      ]
     },
     "metadata": {
      "needs_background": "light"
     },
     "output_type": "display_data"
    }
   ],
   "source": [
    "fig,ax = plt.subplots()\n",
    "\n",
    "\n",
    "#colormap\n",
    "norm = cm.Normalize(vmin=0,vmax=50,clip=False)\n",
    "cmap = cm.ListedColormap(plt.cm.plasma(np.linspace(0.25,1,10)), \"name\")\n",
    "\n",
    "\n",
    "plt.rcParams['contour.negative_linestyle'] = 'solid'\n",
    "def fmt(x):\n",
    "    s = f\"{x:.1f}\"\n",
    "    if s.endswith(\"0\"):\n",
    "        s = f\"{x:.0f}\"\n",
    "    return rf\"{s} \\%\" if plt.rcParams[\"text.usetex\"] else f\"{s} %\"\n",
    "\n",
    "\n",
    "normCS = cm.Normalize(vmin=-0.4,vmax=1.2,clip=False)\n",
    "CS = ax.contour(X,Y,F1)#levels=np.arange(-2,10,0.5))  #x-axis: e1, y-axis: e2\n",
    "#divnorm = colors.TwoSlopeNorm(vmin=-1, vcenter=0, vmax=1)\n",
    "#cmap2 = cm.ListedColormap(plt.cm.RdBu(np.linspace(0.25,1,10)), \"name\")\n",
    "normCS2 = cm.Normalize(vmin=-0.005,vmax=0.005,clip=False)\n",
    "CS2 = ax.contour(X,Y,F2,colors='k',alpha=0.3)#cmap=plt.cm.PuOr,norm=norm2,)#,levels=np.arange(-2,10,0.5))  #x-axis: e1, y-axis: e2\n",
    "\n",
    "#q = ax.quiver(Xp, Yp, F3Xp, F3Yp, units='xy',color='red',scale=1)\n",
    "q = ax.quiver(Xp, Yp, quiverX, quiverY,mag,units='xy',scale=1,cmap=cmap,norm=norm)\n",
    "cb = plt.colorbar(q, ticks=np.arange(0,51,10), format='%.1f', norm=norm)\n",
    "cb.ax.get_yaxis().labelpad = 15\n",
    "cb.ax.set_ylabel('# of contacts', rotation=270)\n",
    "# q = ax.quiver(X, Y, F2X, F2Y, units='xy' ,scale=1, color='blue')\n",
    "\n",
    "XYposp2 = np.array(pos2store[0:len(pos2store)-1]).transpose()\n",
    "Qposp2 = np.array(pos2store[1:len(pos2store)]).transpose()\n",
    "Qposp2 = Qposp2 - XYposp2\n",
    "qR = ax.quiver(XYposp2[0],XYposp2[1],Qposp2[0],Qposp2[1],units='xy',scale=1)\n",
    "\n",
    "cbCS = plt.colorbar(CS, ticks=np.arange(-0.8,2.5,0.4), format='%.1f', norm=normCS)\n",
    "cbCS.ax.get_yaxis().labelpad = 15\n",
    "cbCS.ax.set_ylabel('# of contacts', rotation=270)\n",
    "\n",
    "\n",
    "#ax.clabel(CS, fontsize=8, inline=True)\n",
    "ax.clabel(CS2, fontsize=8, inline=True)\n",
    "# ax.contour(X,Y,F2,levels=np.arange(-20,20,4),colors = 'blue')\n",
    "\n",
    "# ax.set_aspect('equal')\n",
    "\n",
    "plt.xlim(-0.5,15)\n",
    "# plt.xlim(5,7.5)\n",
    "plt.ylim(-11,11)\n",
    "# plt.ylim(-1,1)\n",
    "\n",
    "plt.title('Title',fontsize=10)\n",
    "\n",
    "\n",
    "ax.set_aspect='equal'\n",
    "plt.savefig('circuit1.png',dpi=1000)\n",
    "\n",
    "XYposp2, Qposp2"
   ]
  },
  {
   "cell_type": "code",
   "execution_count": 113,
   "metadata": {},
   "outputs": [
    {
     "data": {
      "text/plain": [
       "(-1.0, 1.0)"
      ]
     },
     "execution_count": 113,
     "metadata": {},
     "output_type": "execute_result"
    },
    {
     "data": {
      "image/png": "[encoded data removed]",
      "text/plain": [
       "<Figure size 432x288 with 1 Axes>"
      ]
     },
     "metadata": {
      "needs_background": "light"
     },
     "output_type": "display_data"
    }
   ],
   "source": [
    "plt.scatter([i for i in range(len(XYposp2[0]))],XYposp2[0])\n",
    "plt.scatter([i for i in range(len(XYposp2[1]))],XYposp2[1])\n",
    "plt.scatter([i for i in range(len(XYposp1[0]))],XYposp1[0])\n",
    "plt.scatter([i for i in range(len(XYposp1[1]))],XYposp1[1])\n",
    "# plt.xlim(10,)\n",
    "# plt.ylim(0.01,0.04)\n",
    "plt.ylim(-1,1)"
   ]
  },
  {
   "cell_type": "code",
   "execution_count": null,
   "metadata": {},
   "outputs": [],
   "source": []
  },
  {
   "cell_type": "code",
   "execution_count": 114,
   "metadata": {},
   "outputs": [
    {
     "data": {
      "text/plain": [
       "(-1.0, 1.0)"
      ]
     },
     "execution_count": 114,
     "metadata": {},
     "output_type": "execute_result"
    },
    {
     "data": {
      "image/png": "[encoded data removed]",
      "text/plain": [
       "<Figure size 432x288 with 1 Axes>"
      ]
     },
     "metadata": {
      "needs_background": "light"
     },
     "output_type": "display_data"
    }
   ],
   "source": [
    "plt.plot([i for i in range(len(XYposp1[0]))],XYposp1[0])\n",
    "plt.plot([i for i in range(len(XYposp1[1]))],XYposp1[1])\n",
    "# plt.xlim(10,)\n",
    "plt.ylim(-1,1)"
   ]
  },
  {
   "cell_type": "code",
   "execution_count": 24,
   "metadata": {},
   "outputs": [
    {
     "data": {
      "text/plain": [
       "(-5.0, 150.0)"
      ]
     },
     "execution_count": 24,
     "metadata": {},
     "output_type": "execute_result"
    },
    {
     "data": {
      "image/png": "[encoded data removed]",
      "text/plain": [
       "<Figure size 432x288 with 1 Axes>"
      ]
     },
     "metadata": {
      "needs_background": "light"
     },
     "output_type": "display_data"
    }
   ],
   "source": [
    "#graph iterations vs momentum factor with momentum\n",
    "\n",
    "plt.plot(momentum_factors[0:len(iterationsM[0])],iterationsM[0],c='k')  #EPSILON=0.025\n",
    "plt.plot(momentum_factors[0:len(iterationsM[1])],iterationsM[1],c='b')\n",
    "plt.plot(momentum_factors[0:len(iterationsM[5])],iterationsM[5],c='r')\n",
    "plt.plot(momentum_factors[0:len(iterationsM[10])],iterationsM[10],c='g')\n",
    "plt.plot(momentum_factors[0:len(iterationsM[13])],iterationsM[13],c='c')\n",
    "plt.ylim(-5,150)"
   ]
  },
  {
   "cell_type": "code",
   "execution_count": null,
   "metadata": {},
   "outputs": [],
   "source": []
  },
  {
   "cell_type": "code",
   "execution_count": 67,
   "metadata": {},
   "outputs": [
    {
     "data": {
      "image/png": "[encoded data removed]",
      "text/plain": [
       "<Figure size 432x288 with 1 Axes>"
      ]
     },
     "metadata": {
      "needs_background": "light"
     },
     "output_type": "display_data"
    }
   ],
   "source": [
    "#graph iterations vs scaling factor with momentum\n",
    "\n",
    "iterationsE = iterationsM.transpose()\n",
    "\n",
    "plt.plot(epsilons[0:len(iterationsE[0])],iterationsE[0],'^')  #MOMENTUM=0.\n",
    "plt.plot(epsilons[0:len(iterationsE[1])],iterationsE[1],c='b')  #MOMENTUM=0.1\n",
    "plt.plot(epsilons[0:len(iterationsE[2])],iterationsE[2],c='r')  #MOMENTUM=0.2\n",
    "plt.plot(epsilons[0:len(iterationsE[3])],iterationsE[3],c='g')  #MOMENTUM=0.3\n",
    "plt.ylim(-5,100)\n",
    "plt.xlim(0,0.5)\n",
    "plt.savefig('circuit3.png',dpi=1000)"
   ]
  },
  {
   "cell_type": "code",
   "execution_count": 26,
   "metadata": {},
   "outputs": [
    {
     "data": {
      "text/plain": [
       "(19, 6)"
      ]
     },
     "execution_count": 26,
     "metadata": {},
     "output_type": "execute_result"
    }
   ],
   "source": [
    "iterationsM.shape"
   ]
  },
  {
   "cell_type": "code",
   "execution_count": 27,
   "metadata": {},
   "outputs": [
    {
     "data": {
      "text/plain": [
       "(array([0, 1, 2, 3, 4, 5]), array([1, 3, 4, None, 2, 4], dtype=object))"
      ]
     },
     "execution_count": 27,
     "metadata": {},
     "output_type": "execute_result"
    },
    {
     "data": {
      "image/png": "[encoded data removed]",
      "text/plain": [
       "<Figure size 432x288 with 1 Axes>"
      ]
     },
     "metadata": {
      "needs_background": "light"
     },
     "output_type": "display_data"
    }
   ],
   "source": [
    "X = np.arange(0,6,1)\n",
    "Y = np.array([1,3,4,None,2,4])\n",
    "plt.plot(X,Y)\n",
    "X,Y"
   ]
  },
  {
   "cell_type": "code",
   "execution_count": null,
   "metadata": {},
   "outputs": [],
   "source": []
  }
 ],
 "metadata": {
  "kernelspec": {
   "display_name": "Python 3",
   "language": "python",
   "name": "python3"
  },
  "language_info": {
   "codemirror_mode": {
    "name": "ipython",
    "version": 3
   },
   "file_extension": ".py",
   "mimetype": "text/x-python",
   "name": "python",
   "nbconvert_exporter": "python",
   "pygments_lexer": "ipython3",
   "version": "3.6.7"
  }
 },
 "nbformat": 4,
 "nbformat_minor": 4
}
